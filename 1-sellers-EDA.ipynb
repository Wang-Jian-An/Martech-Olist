{
 "cells": [
  {
   "cell_type": "code",
   "execution_count": 2,
   "metadata": {},
   "outputs": [],
   "source": [
    "import os\n",
    "import numpy as np\n",
    "import pandas as pd\n",
    "import matplotlib.pyplot as plt\n",
    "%matplotlib inline\n",
    "\n",
    "import seaborn as sns\n",
    "from Variable import *"
   ]
  },
  {
   "cell_type": "code",
   "execution_count": 3,
   "metadata": {},
   "outputs": [
    {
     "name": "stdout",
     "output_type": "stream",
     "text": [
      "<class 'pandas.core.frame.DataFrame'>\n",
      "RangeIndex: 3095 entries, 0 to 3094\n",
      "Data columns (total 4 columns):\n",
      " #   Column                  Non-Null Count  Dtype \n",
      "---  ------                  --------------  ----- \n",
      " 0   seller_id               3095 non-null   object\n",
      " 1   seller_zip_code_prefix  3095 non-null   int64 \n",
      " 2   seller_city             3095 non-null   object\n",
      " 3   seller_state            3095 non-null   object\n",
      "dtypes: int64(1), object(3)\n",
      "memory usage: 96.8+ KB\n",
      "None\n",
      "                          seller_id  seller_zip_code_prefix  \\\n",
      "0  3442f8959a84dea7ee197c632cb2df15                   13023   \n",
      "1  d1b65fc7debc3361ea86b5f14c68d2e2                   13844   \n",
      "2  ce3ad9de960102d0677a81f5d0bb7b2d                   20031   \n",
      "3  c0f3eea2e14555b6faeea3dd58c1b1c3                    4195   \n",
      "4  51a04a8a6bdcb23deccc82b0b80742cf                   12914   \n",
      "\n",
      "         seller_city seller_state  \n",
      "0           campinas           SP  \n",
      "1         mogi guacu           SP  \n",
      "2     rio de janeiro           RJ  \n",
      "3          sao paulo           SP  \n",
      "4  braganca paulista           SP  \n"
     ]
    }
   ],
   "source": [
    "# Load Data\n",
    "rawData = pd.read_csv(os.path.join(main_path, sellersPath))\n",
    "\n",
    "# Display the information of Data\n",
    "print(rawData.info())\n",
    "print(rawData.head())"
   ]
  },
  {
   "cell_type": "code",
   "execution_count": 4,
   "metadata": {},
   "outputs": [
    {
     "name": "stdout",
     "output_type": "stream",
     "text": [
      "seller_id\n",
      "3442f8959a84dea7ee197c632cb2df15    1\n",
      "e26901d5ab434ce92fd9b5c256820a4e    1\n",
      "7e3f87d16fb353f408d467e74fbd8014    1\n",
      "9140bd1d9de28b197dce077bdd687438    1\n",
      "a2b911e9ad40dc7d61c142a4683e2d85    1\n",
      "                                   ..\n",
      "f918546be4bec7104d117789ba758b2b    1\n",
      "eb4a59a06b3948e851a7d7a830bcbc42    1\n",
      "80146bc52c4f6af5239b23de2a20262b    1\n",
      "4091f77d8c768fc3e81c20761471761d    1\n",
      "9e25199f6ef7e7c347120ff175652c3b    1\n",
      "Name: seller_id, Length: 3095, dtype: int64\n",
      "====================================================================================================\n",
      "seller_zip_code_prefix\n",
      "14940    49\n",
      "13660    10\n",
      "13920     9\n",
      "16200     9\n",
      "87050     8\n",
      "         ..\n",
      "83707     1\n",
      "85065     1\n",
      "78552     1\n",
      "3632      1\n",
      "12051     1\n",
      "Name: seller_zip_code_prefix, Length: 2246, dtype: int64\n",
      "====================================================================================================\n",
      "seller_city\n",
      "sao paulo              694\n",
      "curitiba               127\n",
      "rio de janeiro          96\n",
      "belo horizonte          68\n",
      "ribeirao preto          52\n",
      "                      ... \n",
      "taruma                   1\n",
      "s jose do rio preto      1\n",
      "domingos martins         1\n",
      "messias targino          1\n",
      "leme                     1\n",
      "Name: seller_city, Length: 611, dtype: int64\n",
      "====================================================================================================\n",
      "seller_state\n",
      "SP    1849\n",
      "PR     349\n",
      "MG     244\n",
      "SC     190\n",
      "RJ     171\n",
      "RS     129\n",
      "GO      40\n",
      "DF      30\n",
      "ES      23\n",
      "BA      19\n",
      "CE      13\n",
      "PE       9\n",
      "PB       6\n",
      "RN       5\n",
      "MS       5\n",
      "MT       4\n",
      "RO       2\n",
      "SE       2\n",
      "PI       1\n",
      "AC       1\n",
      "MA       1\n",
      "AM       1\n",
      "PA       1\n",
      "Name: seller_state, dtype: int64\n",
      "====================================================================================================\n"
     ]
    }
   ],
   "source": [
    "for oneColumn in rawData.columns:\n",
    "    print(oneColumn)\n",
    "    print(rawData[oneColumn].value_counts())\n",
    "    print(\"=\" * 100)"
   ]
  },
  {
   "cell_type": "code",
   "execution_count": null,
   "metadata": {},
   "outputs": [],
   "source": []
  }
 ],
 "metadata": {
  "kernelspec": {
   "display_name": "Python 3",
   "language": "python",
   "name": "python3"
  },
  "language_info": {
   "codemirror_mode": {
    "name": "ipython",
    "version": 3
   },
   "file_extension": ".py",
   "mimetype": "text/x-python",
   "name": "python",
   "nbconvert_exporter": "python",
   "pygments_lexer": "ipython3",
   "version": "3.9.8"
  },
  "orig_nbformat": 4
 },
 "nbformat": 4,
 "nbformat_minor": 2
}
