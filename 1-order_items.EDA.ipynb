{
 "cells": [
  {
   "attachments": {},
   "cell_type": "markdown",
   "metadata": {},
   "source": [
    "# Order Items Data 探索性資料分析目標\n",
    "\n",
    "1. 探索連續變數之描述性統計\n",
    "2. 探索類別變數之頻率統計\n",
    "3. 一共有多少產品？\n",
    "4. 一共有多少銷售員？\n",
    "5. 每件產品銷售數量與銷售額？"
   ]
  },
  {
   "cell_type": "code",
   "execution_count": 1,
   "metadata": {},
   "outputs": [],
   "source": [
    "import os\n",
    "import numpy as np\n",
    "import pandas as pd\n",
    "import matplotlib.pyplot as plt\n",
    "import seaborn as sns\n",
    "%matplotlib inline\n",
    "\n",
    "from Variable import *"
   ]
  },
  {
   "cell_type": "code",
   "execution_count": 3,
   "metadata": {},
   "outputs": [
    {
     "name": "stdout",
     "output_type": "stream",
     "text": [
      "<class 'pandas.core.frame.DataFrame'>\n",
      "RangeIndex: 112650 entries, 0 to 112649\n",
      "Data columns (total 7 columns):\n",
      " #   Column               Non-Null Count   Dtype  \n",
      "---  ------               --------------   -----  \n",
      " 0   order_id             112650 non-null  object \n",
      " 1   order_item_id        112650 non-null  int64  \n",
      " 2   product_id           112650 non-null  object \n",
      " 3   seller_id            112650 non-null  object \n",
      " 4   shipping_limit_date  112650 non-null  object \n",
      " 5   price                112650 non-null  float64\n",
      " 6   freight_value        112650 non-null  float64\n",
      "dtypes: float64(2), int64(1), object(4)\n",
      "memory usage: 6.0+ MB\n",
      "None\n",
      "                           order_id  order_item_id  \\\n",
      "0  00010242fe8c5a6d1ba2dd792cb16214              1   \n",
      "1  00018f77f2f0320c557190d7a144bdd3              1   \n",
      "2  000229ec398224ef6ca0657da4fc703e              1   \n",
      "3  00024acbcdf0a6daa1e931b038114c75              1   \n",
      "4  00042b26cf59d7ce69dfabb4e55b4fd9              1   \n",
      "\n",
      "                         product_id                         seller_id  \\\n",
      "0  4244733e06e7ecb4970a6e2683c13e61  48436dade18ac8b2bce089ec2a041202   \n",
      "1  e5f2d52b802189ee658865ca93d83a8f  dd7ddc04e1b6c2c614352b383efe2d36   \n",
      "2  c777355d18b72b67abbeef9df44fd0fd  5b51032eddd242adc84c38acab88f23d   \n",
      "3  7634da152a4610f1595efa32f14722fc  9d7a1d34a5052409006425275ba1c2b4   \n",
      "4  ac6c3623068f30de03045865e4e10089  df560393f3a51e74553ab94004ba5c87   \n",
      "\n",
      "   shipping_limit_date   price  freight_value  \n",
      "0  2017-09-19 09:45:35   58.90          13.29  \n",
      "1  2017-05-03 11:05:13  239.90          19.93  \n",
      "2  2018-01-18 14:48:30  199.00          17.87  \n",
      "3  2018-08-15 10:10:18   12.99          12.79  \n",
      "4  2017-02-13 13:57:51  199.90          18.14  \n"
     ]
    }
   ],
   "source": [
    "# Load Data\n",
    "rawData = pd.read_csv(os.path.join(main_path, order_itemsPath))\n",
    "print(rawData.info())\n",
    "print(rawData.head())"
   ]
  },
  {
   "attachments": {},
   "cell_type": "markdown",
   "metadata": {},
   "source": [
    "## 連續變數之描述性統計"
   ]
  },
  {
   "cell_type": "code",
   "execution_count": null,
   "metadata": {},
   "outputs": [],
   "source": [
    "rawData.describe()"
   ]
  },
  {
   "attachments": {},
   "cell_type": "markdown",
   "metadata": {},
   "source": [
    "## 類別變數之頻率統計"
   ]
  },
  {
   "cell_type": "code",
   "execution_count": 6,
   "metadata": {},
   "outputs": [
    {
     "name": "stdout",
     "output_type": "stream",
     "text": [
      "order_id\n",
      "8272b63d03f5f79c56e9e4120aec44ef    21\n",
      "1b15974a0141d54e36626dca3fdc731a    20\n",
      "ab14fdcfbe524636d65ee38360e22ce8    20\n",
      "9ef13efd6949e4573a18964dd1bbe7f5    15\n",
      "428a2f660dc84138d969ccd69a0ab6d5    15\n",
      "                                    ..\n",
      "5a0911d70c1f85d3bed0df1bf693a6dd     1\n",
      "5a082b558a3798d3e36d93bfa8ca1eae     1\n",
      "5a07264682e0b8fbb3f166edbbffc6e8     1\n",
      "5a071192a28951b76774e5a760c8c9b7     1\n",
      "fffe41c64501cc87c801fd61db3f6244     1\n",
      "Name: order_id, Length: 98666, dtype: int64\n",
      "product_id\n",
      "aca2eb7d00ea1a7b8ebd4e68314663af    527\n",
      "99a4788cb24856965c36a24e339b6058    488\n",
      "422879e10f46682990de24d770e7f83d    484\n",
      "389d119b48cf3043d311335e499d9c6b    392\n",
      "368c6c730842d78016ad823897a372db    388\n",
      "                                   ... \n",
      "dbc42f8ad8afd0147a5a46be630781f8      1\n",
      "5d86ed92606c80a89e547cdba3946812      1\n",
      "0b8750fa58fefe42cf03a9e2e4b8fce6      1\n",
      "a4758e74e2cdb74d0c4db83594ca14a3      1\n",
      "350688d9dc1e75ff97be326363655e01      1\n",
      "Name: product_id, Length: 32951, dtype: int64\n",
      "seller_id\n",
      "6560211a19b47992c3666cc44a7e94c0    2033\n",
      "4a3ca9315b744ce9f8e9374361493884    1987\n",
      "1f50f920176fa81dab994f9023523100    1931\n",
      "cc419e0650a3c5ba77189a1882b7556a    1775\n",
      "da8622b14eb17ae2831f4ac5b9dab84a    1551\n",
      "                                    ... \n",
      "400f221ab83037c0ea78f1267da9624d       1\n",
      "1746c1ae87ac63d530c7c943d0ac42e2       1\n",
      "16bdc8cefd0e32a6f0824d296c5ad14a       1\n",
      "ace601496e211a664100321f038f50af       1\n",
      "13d95f0f6f73943d4ceffad0fc2cd32c       1\n",
      "Name: seller_id, Length: 3095, dtype: int64\n",
      "shipping_limit_date\n",
      "2017-07-21 18:25:23    21\n",
      "2018-03-01 02:50:48    21\n",
      "2017-08-30 14:30:23    20\n",
      "2017-02-03 21:44:49    15\n",
      "2017-12-21 02:30:41    15\n",
      "                       ..\n",
      "2017-10-02 03:56:18     1\n",
      "2018-01-04 16:09:20     1\n",
      "2018-04-25 16:55:28     1\n",
      "2017-11-29 22:19:33     1\n",
      "2018-06-12 17:10:13     1\n",
      "Name: shipping_limit_date, Length: 93318, dtype: int64\n"
     ]
    }
   ],
   "source": [
    "\"\"\"\n",
    "探索後產生之新疑問\n",
    "1. 每筆訂單購買的物品是否相同？\n",
    "2. 每個銷售員賣的產品最多或最少？\n",
    "\n",
    "\"\"\"\n",
    "classicalFeatures = [i for i in rawData.columns if rawData[i].dtype == \"object\"]\n",
    "for oneFeature in classicalFeatures:\n",
    "    print(oneFeature)\n",
    "    print(rawData[oneFeature].value_counts())"
   ]
  },
  {
   "cell_type": "code",
   "execution_count": null,
   "metadata": {},
   "outputs": [],
   "source": []
  }
 ],
 "metadata": {
  "kernelspec": {
   "display_name": "Python 3",
   "language": "python",
   "name": "python3"
  },
  "language_info": {
   "codemirror_mode": {
    "name": "ipython",
    "version": 3
   },
   "file_extension": ".py",
   "mimetype": "text/x-python",
   "name": "python",
   "nbconvert_exporter": "python",
   "pygments_lexer": "ipython3",
   "version": "3.9.8"
  },
  "orig_nbformat": 4
 },
 "nbformat": 4,
 "nbformat_minor": 2
}
