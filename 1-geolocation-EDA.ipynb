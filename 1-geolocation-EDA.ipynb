{
 "cells": [
  {
   "cell_type": "code",
   "execution_count": 1,
   "metadata": {},
   "outputs": [],
   "source": [
    "import numpy as np\n",
    "import pandas as pd\n",
    "from Variable import *"
   ]
  },
  {
   "cell_type": "code",
   "execution_count": 2,
   "metadata": {},
   "outputs": [
    {
     "name": "stdout",
     "output_type": "stream",
     "text": [
      "<class 'pandas.core.frame.DataFrame'>\n",
      "RangeIndex: 1000163 entries, 0 to 1000162\n",
      "Data columns (total 5 columns):\n",
      " #   Column                       Non-Null Count    Dtype  \n",
      "---  ------                       --------------    -----  \n",
      " 0   geolocation_zip_code_prefix  1000163 non-null  int64  \n",
      " 1   geolocation_lat              1000163 non-null  float64\n",
      " 2   geolocation_lng              1000163 non-null  float64\n",
      " 3   geolocation_city             1000163 non-null  object \n",
      " 4   geolocation_state            1000163 non-null  object \n",
      "dtypes: float64(2), int64(1), object(2)\n",
      "memory usage: 38.2+ MB\n",
      "None\n",
      "   geolocation_zip_code_prefix  geolocation_lat  geolocation_lng  \\\n",
      "0                         1037       -23.545621       -46.639292   \n",
      "1                         1046       -23.546081       -46.644820   \n",
      "2                         1046       -23.546129       -46.642951   \n",
      "3                         1041       -23.544392       -46.639499   \n",
      "4                         1035       -23.541578       -46.641607   \n",
      "\n",
      "  geolocation_city geolocation_state  \n",
      "0        sao paulo                SP  \n",
      "1        sao paulo                SP  \n",
      "2        sao paulo                SP  \n",
      "3        sao paulo                SP  \n",
      "4        sao paulo                SP  \n"
     ]
    }
   ],
   "source": [
    "# %% Load Data\n",
    "rawData = pd.read_csv(os.path.join(main_path, \"raw_data\", geolocationPath))\n",
    "print(rawData.info())\n",
    "print(rawData.head())"
   ]
  },
  {
   "cell_type": "code",
   "execution_count": 3,
   "metadata": {},
   "outputs": [
    {
     "name": "stdout",
     "output_type": "stream",
     "text": [
      "Feature:  geolocation_zip_code_prefix\n",
      "Total class:  19015\n",
      "24220    1146\n",
      "24230    1102\n",
      "38400     965\n",
      "35500     907\n",
      "11680     879\n",
      "         ... \n",
      "71750       1\n",
      "71742       1\n",
      "26475       1\n",
      "26357       1\n",
      "29826       1\n",
      "Name: geolocation_zip_code_prefix, Length: 19015, dtype: int64\n",
      "====================================================================================================\n",
      "Feature:  geolocation_city\n",
      "Total class:  8011\n",
      "sao paulo               135800\n",
      "rio de janeiro           62151\n",
      "belo horizonte           27805\n",
      "são paulo                24918\n",
      "curitiba                 16593\n",
      "                         ...  \n",
      "jacuípe                      1\n",
      "mar vermelho                 1\n",
      "quebrangulo                  1\n",
      "poço das trincheiras         1\n",
      "poxim                        1\n",
      "Name: geolocation_city, Length: 8011, dtype: int64\n",
      "====================================================================================================\n",
      "Feature:  geolocation_state\n",
      "Total class:  27\n",
      "SP    404268\n",
      "MG    126336\n",
      "RJ    121169\n",
      "RS     61851\n",
      "PR     57859\n",
      "SC     38328\n",
      "BA     36045\n",
      "GO     20139\n",
      "ES     16748\n",
      "PE     16432\n",
      "DF     12986\n",
      "MT     12031\n",
      "CE     11674\n",
      "PA     10853\n",
      "MS     10431\n",
      "MA      7853\n",
      "PB      5538\n",
      "RN      5041\n",
      "PI      4549\n",
      "AL      4183\n",
      "TO      3576\n",
      "SE      3563\n",
      "RO      3478\n",
      "AM      2432\n",
      "AC      1301\n",
      "AP       853\n",
      "RR       646\n",
      "Name: geolocation_state, dtype: int64\n",
      "====================================================================================================\n"
     ]
    }
   ],
   "source": [
    "# %% Count each label\n",
    "objFeatures = [geolocationPK, *[i for i in rawData.columns if rawData[i].dtype == \"object\" and not(i == geolocationPK)]]\n",
    "for oneColumn in objFeatures:\n",
    "    print(\"Feature: \", oneColumn)\n",
    "    print(\"Total class: \", rawData[oneColumn].unique().__len__())\n",
    "    print(rawData[oneColumn].value_counts())\n",
    "    print(\"=\" * 100)"
   ]
  },
  {
   "cell_type": "code",
   "execution_count": 4,
   "metadata": {},
   "outputs": [
    {
     "name": "stdout",
     "output_type": "stream",
     "text": [
      "        geolocation_zip_code_prefix  geolocation_lat  geolocation_lng  \\\n",
      "470805                        24220       -22.905817       -43.106989   \n",
      "470811                        24220       -22.902306       -43.112545   \n",
      "470812                        24220       -22.904567       -43.110491   \n",
      "470820                        24220       -22.902575       -43.109192   \n",
      "470821                        24220       -22.907500       -43.106170   \n",
      "\n",
      "       geolocation_city geolocation_state  \n",
      "470805          niteroi                RJ  \n",
      "470811          niteroi                RJ  \n",
      "470812          niteroi                RJ  \n",
      "470820          niteroi                RJ  \n",
      "470821          niteroi                RJ  \n",
      "====================================================================================================\n"
     ]
    }
   ],
   "source": [
    "# %% Explore someone geolocation_zip_code_prefix\n",
    "print(rawData.query(\"geolocation_zip_code_prefix == 24220\").head(), end = \"\\n\" + \"=\" * 100 + \"\\n\") "
   ]
  },
  {
   "cell_type": "code",
   "execution_count": 7,
   "metadata": {},
   "outputs": [
    {
     "name": "stdout",
     "output_type": "stream",
     "text": [
      "1037 ['sao paulo' 'são paulo']\n",
      "====================================================================================================\n"
     ]
    }
   ],
   "source": [
    "# %% Confirm that each geolocation_zip_code_prefix have only geolocation_city and geolocation_state\n",
    "uniqueGeolocationZipCodePrefix = rawData[\"geolocation_zip_code_prefix\"].unique().tolist()\n",
    "for oneZipCodePrefix in uniqueGeolocationZipCodePrefix:\n",
    "    selectRawData = rawData.query(\"geolocation_zip_code_prefix == @oneZipCodePrefix\")\n",
    "    if selectRawData[\"geolocation_city\"].unique().shape[0] != 1:\n",
    "        print(oneZipCodePrefix, selectRawData[\"geolocation_city\"].unique())\n",
    "    print(\"=\" * 100)\n",
    "    if selectRawData[\"geolocation_state\"].unique().shape[0] != 1:\n",
    "        print(oneZipCodePrefix, selectRawData[\"geolocation_state\"].unique())\n",
    "    break"
   ]
  }
 ],
 "metadata": {
  "kernelspec": {
   "display_name": "Python 3",
   "language": "python",
   "name": "python3"
  },
  "language_info": {
   "codemirror_mode": {
    "name": "ipython",
    "version": 3
   },
   "file_extension": ".py",
   "mimetype": "text/x-python",
   "name": "python",
   "nbconvert_exporter": "python",
   "pygments_lexer": "ipython3",
   "version": "3.9.8"
  },
  "orig_nbformat": 4
 },
 "nbformat": 4,
 "nbformat_minor": 2
}
